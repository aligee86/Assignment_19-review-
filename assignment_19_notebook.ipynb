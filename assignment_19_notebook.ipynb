{
 "cells": [
  {
   "cell_type": "code",
   "execution_count": 1,
   "id": "ca135100",
   "metadata": {},
   "outputs": [],
   "source": [
    "# Cryptocurrency Wallet\n",
    "\n",
    "################################################################################\n",
    "# For this Challenge, you will assume the perspective of a KryptoJobs2Go\n",
    "# customer in order to do the following:\n",
    "\n",
    "# * Generate a new Ethereum account instance by using your mnemonic seed phrase\n",
    "# (which you created earlier in the module).\n",
    "\n",
    "# * Fetch and display the account balance associated with your Ethereum account\n",
    "# address.\n",
    "\n",
    "# * Calculate the total value of an Ethereum transaction, including the gas\n",
    "# estimate, that pays a KryptoJobs2Go candidate for their work.\n",
    "\n",
    "# * Digitally sign a transaction that pays a KryptoJobs2Go candidate, and send\n",
    "# this transaction to the Ganache blockchain.\n",
    "\n",
    "# * Review the transaction hash code associated with the validated blockchain transaction.\n",
    "\n",
    "# Once you receive the transaction’s hash code, you will navigate to the Transactions\n",
    "# section of Ganache to review the blockchain transaction details. To confirm that\n",
    "# you have successfully created the transaction, you will save screenshots to the\n",
    "# README.md file of your GitHub repository for this Challenge assignment."
   ]
  },
  {
   "cell_type": "code",
   "execution_count": 4,
   "id": "f6334bc4",
   "metadata": {},
   "outputs": [],
   "source": [
    "################################################################################\n",
    "# Imports\n",
    "import streamlit as st\n",
    "from dataclasses import dataclass\n",
    "from typing import Any, List\n",
    "from web3 import Web3\n",
    "\n",
    "w3 = Web3(Web3.HTTPProvider(\"HTTP://127.0.0.1:7545\"))"
   ]
  },
  {
   "cell_type": "code",
   "execution_count": 5,
   "id": "893148d4",
   "metadata": {},
   "outputs": [],
   "source": [
    "################################################################################\n",
    "# Step 1:\n",
    "# Import Ethereum Transaction Functions into the KryptoJobs2Go Application\n",
    "\n",
    "# In this section, you'll import several functions from the `crypto_wallet.py`\n",
    "# script into the file `krypto_jobs.py`, which contains code for Fintech\n",
    "# Finder’s customer interface, in order to add wallet operations to the\n",
    "# application. For this section, you will assume the perspective of a Fintech\n",
    "# Finder customer (i.e., you’ll provide your Ethereum wallet and account\n",
    "# information to the application).\n",
    "\n",
    "# Complete the following steps:\n",
    "\n",
    "# 1. Review the code contained in the `crypto_wallet.py` script file. Note that\n",
    "# the Ethereum transaction functions that you have built throughout this\n",
    "# module-including `wallet`, `wallet.derive_acount`, `get_balance`, `fromWei`,\n",
    "# `estimateGas`, `sendRawTransaction`, and others&mdash;have now been\n",
    "# incorporated into Python functions that allow you to automate the process of\n",
    "# accessing them.\n",
    "\n",
    "# 2. Add your mnemonic seed phrase (provided by Ganache) to the starter code’s `SAMPLE.env` file.\n",
    "# When the information has been added, rename the file `.env`.\n",
    "\n",
    "# 3. Import the following functions from the `crypto_wallet.py` file:\n",
    "# * `generate_account`\n",
    "# * `get_balance`\n",
    "# * `send_transaction`\n",
    "\n",
    "# 4. Within the Streamlit sidebar section of code, create a variable named\n",
    "# `account`. Set this variable equal to a call on the `generate_account`\n",
    "# function. This function will create the KryptoJobs2Go customer’s (in this\n",
    "# case, your) HD wallet and Ethereum account.\n",
    "\n",
    "# 5. Within this same section of the `krypto_jobs.py` file, define a\n",
    "# new `st.sidebar.write` function that will display the balance of the\n",
    "# customer’s account. Inside this function, call the `get_balance` function\n",
    "# and pass it your Ethereum `account.address`."
   ]
  },
  {
   "cell_type": "code",
   "execution_count": 6,
   "id": "427221f3",
   "metadata": {},
   "outputs": [],
   "source": [
    "################################################################################\n",
    "# Step 1 - Part 3:\n",
    "# Import the following functions from the `crypto_wallet.py` file:\n",
    "# * `generate_account`\n",
    "# * `get_balance`\n",
    "# * `send_transaction`\n",
    "\n",
    "# @TODO:\n",
    "# From `crypto_wallet.py import the functions generate_account, get_balance,\n",
    "#  and send_transaction\n",
    "from crypto_wallet import generate_account, get_balance, send_transaction\n",
    "\n",
    "################################################################################"
   ]
  },
  {
   "cell_type": "code",
   "execution_count": 7,
   "id": "545f5e4e",
   "metadata": {},
   "outputs": [],
   "source": [
    "# KryptoJobs2Go Candidate Information\n",
    "\n",
    "# Database of KryptoJobs2Go candidates including their name, digital address, rating and hourly cost per Ether.\n",
    "# A single Ether is currently valued at $1,500\n",
    "candidate_database = {\n",
    "    \"Lane\": [\n",
    "        \"Lane\",\n",
    "        \"0xaC8eB8B2ed5C4a0fC41a84Ee4950F417f67029F0\",\n",
    "        \"4.3\",\n",
    "        0.20,\n",
    "        \"Images/lane.jpeg\",\n",
    "    ],\n",
    "    \"Ash\": [\n",
    "        \"Ash\",\n",
    "        \"0x2422858F9C4480c2724A309D58Ffd7Ac8bF65396\",\n",
    "        \"5.0\",\n",
    "        0.33,\n",
    "        \"Images/ash.jpeg\",\n",
    "    ],\n",
    "    \"Jo\": [\n",
    "        \"Jo\",\n",
    "        \"0x8fD00f170FDf3772C5ebdCD90bF257316c69BA45\",\n",
    "        \"4.7\",\n",
    "        0.19,\n",
    "        \"Images/jo.jpeg\",\n",
    "    ],\n",
    "    \"Kendall\": [\n",
    "        \"Kendall\",\n",
    "        \"0x8fD00f170FDf3772C5ebdCD90bF257316c69BA45\",\n",
    "        \"4.1\",\n",
    "        0.16,\n",
    "        \"Images/kendall.jpeg\",\n",
    "    ],\n",
    "}\n",
    "\n",
    "# A list of the KryptoJobs2Go candidates first names\n",
    "people = [\"Lane\", \"Ash\", \"Jo\", \"Kendall\"]\n",
    "\n",
    "\n",
    "def get_people():\n",
    "    \"\"\"Display the database of KryptoJobs2Go candidate information.\"\"\"\n",
    "    db_list = list(candidate_database.values())\n",
    "\n",
    "    for number in range(len(people)):\n",
    "        st.image(db_list[number][4], width=200)\n",
    "        st.write(\"Name: \", db_list[number][0])\n",
    "        st.write(\"Ethereum Account Address: \", db_list[number][1])\n",
    "        st.write(\"KryptoJobs2Go Rating: \", db_list[number][2])\n",
    "        st.write(\"Hourly Rate per Ether: \", db_list[number][3], \"eth\")\n",
    "        st.text(\" \\n\")"
   ]
  },
  {
   "cell_type": "code",
   "execution_count": 8,
   "id": "1b9abf0c",
   "metadata": {},
   "outputs": [
    {
     "name": "stderr",
     "output_type": "stream",
     "text": [
      "2022-10-31 18:02:02.769 \n",
      "  \u001b[33m\u001b[1mWarning:\u001b[0m to view this Streamlit app on a browser, run it with the following\n",
      "  command:\n",
      "\n",
      "    streamlit run C:\\Users\\fizza\\anaconda3\\envs\\dev1\\lib\\site-packages\\ipykernel_launcher.py [ARGUMENTS]\n"
     ]
    },
    {
     "data": {
      "text/plain": [
       "DeltaGenerator(_root_container=0, _provided_cursor=None, _parent=None, _block_type=None, _form_data=None)"
      ]
     },
     "execution_count": 8,
     "metadata": {},
     "output_type": "execute_result"
    }
   ],
   "source": [
    "################################################################################\n",
    "# Streamlit Code\n",
    "\n",
    "# Streamlit application headings\n",
    "st.markdown(\"# KryptoJobs2Go!\")\n",
    "st.markdown(\"## Hire A Fintech Professional!\")\n",
    "st.text(\" \\n\")"
   ]
  },
  {
   "cell_type": "code",
   "execution_count": 9,
   "id": "ddecdb01",
   "metadata": {},
   "outputs": [
    {
     "data": {
      "text/plain": [
       "DeltaGenerator(_root_container=1, _provided_cursor=None, _parent=DeltaGenerator(_root_container=0, _provided_cursor=None, _parent=None, _block_type=None, _form_data=None), _block_type=None, _form_data=None)"
      ]
     },
     "execution_count": 9,
     "metadata": {},
     "output_type": "execute_result"
    }
   ],
   "source": [
    "################################################################################\n",
    "# Streamlit Sidebar Code - Start\n",
    "\n",
    "st.sidebar.markdown(\"## Client Account Address and Ethernet Balance in Ether\")"
   ]
  },
  {
   "cell_type": "code",
   "execution_count": 10,
   "id": "b43e3ba7",
   "metadata": {},
   "outputs": [],
   "source": [
    "##########################################\n",
    "# Step 1 - Part 4:\n",
    "# Create a variable named `account`. Set this variable equal to a call on the\n",
    "# `generate_account` function. This function will create the KryptoJobs2Go\n",
    "# customer’s (in this case, your) HD wallet and Ethereum account.\n",
    "\n",
    "# @TODO:\n",
    "#  Call the `generate_account` function and save it as the variable `account`\n",
    "account = generate_account()"
   ]
  },
  {
   "cell_type": "code",
   "execution_count": 11,
   "id": "8be1d164",
   "metadata": {},
   "outputs": [],
   "source": [
    "##########################################\n",
    "\n",
    "# Write the client's Ethereum account address to the sidebar\n",
    "st.sidebar.write(account.address)"
   ]
  },
  {
   "cell_type": "code",
   "execution_count": 12,
   "id": "16e77ff6",
   "metadata": {},
   "outputs": [],
   "source": [
    "##########################################\n",
    "# Step 1 - Part 5:\n",
    "# Define a new `st.sidebar.write` function that will display the balance of the\n",
    "# customer’s account. Inside this function, call the `get_balance` function and\n",
    "#  pass it your Ethereum `account.address`.\n",
    "\n",
    "# @TODO\n",
    "# Call `get_balance` function and pass it your account address\n",
    "# Write the returned ether balance to the sidebar\n",
    "# YOUR CODE HERE"
   ]
  },
  {
   "cell_type": "code",
   "execution_count": 13,
   "id": "1b33ac3e",
   "metadata": {},
   "outputs": [],
   "source": [
    "##########################################\n",
    "\n",
    "# Create a select box to chose a FinTech Hire candidate\n",
    "person = st.sidebar.selectbox(\"Select a Person\", people)"
   ]
  },
  {
   "cell_type": "code",
   "execution_count": 15,
   "id": "c4034d08",
   "metadata": {},
   "outputs": [
    {
     "data": {
      "text/plain": [
       "DeltaGenerator(_root_container=1, _provided_cursor=None, _parent=DeltaGenerator(_root_container=0, _provided_cursor=None, _parent=None, _block_type=None, _form_data=None), _block_type=None, _form_data=None)"
      ]
     },
     "execution_count": 15,
     "metadata": {},
     "output_type": "execute_result"
    }
   ],
   "source": [
    "# Create a input field to record the number of hours the candidate worked\n",
    "hours = st.sidebar.number_input(\"Number of Hours\")\n",
    "st.sidebar.markdown(\"## Candidate Name, Hourly Rate, and Ethereum Address\")"
   ]
  },
  {
   "cell_type": "code",
   "execution_count": 16,
   "id": "8a8ea142",
   "metadata": {},
   "outputs": [],
   "source": [
    "# Identify the FinTech Hire candidate\n",
    "candidate = candidate_database[person][0]"
   ]
  },
  {
   "cell_type": "code",
   "execution_count": 17,
   "id": "e029b66d",
   "metadata": {},
   "outputs": [],
   "source": [
    "# Write the KryptoJobs2Go candidate's name to the sidebar\n",
    "st.sidebar.write(candidate)"
   ]
  },
  {
   "cell_type": "code",
   "execution_count": 18,
   "id": "77db2ac1",
   "metadata": {},
   "outputs": [],
   "source": [
    "# Identify the KryptoJobs2Go candidate's hourly rate\n",
    "hourly_rate = candidate_database[person][3]"
   ]
  },
  {
   "cell_type": "code",
   "execution_count": 19,
   "id": "a7baeed7",
   "metadata": {},
   "outputs": [],
   "source": [
    "# Write the inTech Finder candidate's hourly rate to the sidebar\n",
    "st.sidebar.write(hourly_rate)"
   ]
  },
  {
   "cell_type": "code",
   "execution_count": 20,
   "id": "afc13989",
   "metadata": {},
   "outputs": [],
   "source": [
    "# Identify the KryptoJobs2Go candidate's Ethereum Address\n",
    "candidate_address = candidate_database[person][1]"
   ]
  },
  {
   "cell_type": "code",
   "execution_count": 21,
   "id": "1d9098e1",
   "metadata": {},
   "outputs": [],
   "source": [
    "# Write the inTech Finder candidate's Ethereum Address to the sidebar\n",
    "st.sidebar.write(candidate_address)"
   ]
  },
  {
   "cell_type": "code",
   "execution_count": 22,
   "id": "44bae425",
   "metadata": {},
   "outputs": [
    {
     "data": {
      "text/plain": [
       "DeltaGenerator(_root_container=1, _provided_cursor=None, _parent=DeltaGenerator(_root_container=0, _provided_cursor=None, _parent=None, _block_type=None, _form_data=None), _block_type=None, _form_data=None)"
      ]
     },
     "execution_count": 22,
     "metadata": {},
     "output_type": "execute_result"
    }
   ],
   "source": [
    "# Write the KryptoJobs2Go candidate's name to the sidebar\n",
    "\n",
    "st.sidebar.markdown(\"## Total Wage in Ether\")"
   ]
  },
  {
   "cell_type": "code",
   "execution_count": 23,
   "id": "e7ccfea5",
   "metadata": {},
   "outputs": [],
   "source": [
    "################################################################################\n",
    "# Step 2: Sign and Execute a Payment Transaction\n",
    "\n",
    "# Complete the following steps:\n",
    "\n",
    "# 1. KryptoJobs2Go customers will select a fintech professional from the\n",
    "# application interface’s drop-down menu, and then input the amount of time for\n",
    "# which they’ll hire the worker. Code the application so that once a customer\n",
    "# completes these steps, the application will calculate the amount that the\n",
    "# worker will be paid in ether. To do so, complete the following steps:\n",
    "\n",
    "# * Write the equation that calculates the candidate’s wage. This equation\n",
    "#  should assess the candidate’s hourly rate from the candidate database\n",
    "# (`candidate_database[person][3]`) and then multiply this hourly rate by\n",
    "# the value of the `hours` variable. Save this calculation’s output as a\n",
    "# variable named `wage`.\n",
    "\n",
    "# * Write the `wage` variable to the Streamlit sidebar by\n",
    "# using `st.sidebar.write`.\n",
    "\n",
    "# 2. Now that the application can calculate a candidate’s wage, write the code\n",
    "# that will allow a customer (you, in this case) to send an Ethereum blockchain\n",
    "# transaction that pays the hired candidate. To accomplish this, locate the\n",
    "# code that reads `if st.sidebar.button(\"Send Transaction\")`. You’ll need to\n",
    "# add logic to this `if` statement that sends the appropriate information to\n",
    "# the `send_transaction` function (which you imported from the `crypto_wallet`\n",
    "# script file). Inside the `if` statement, add the following functionality:\n",
    "\n",
    "# * Call the `send_transaction()` function and pass it three parameters:\n",
    "# - Your Ethereum `account` information. (Remember that this `account`\n",
    "# instance was created when the `generate_account` function was called.)\n",
    "#  From the `account` instance, the application will be able to access the\n",
    "#  `account.address` information that is needed to populate the `from` data\n",
    "# attribute in the raw transaction.\n",
    "# - The `candidate_address` (which will be created and identified in the\n",
    "# sidebar when a customer selects a candidate). This will populate the `to`\n",
    "# data attribute in the raw transaction.\n",
    "# - The `wage` value. This will be passed to the `toWei` function to\n",
    "# determine the wei value of the payment in the raw transaction.\n",
    "\n",
    "# * Save the transaction hash that the `send_transaction` function returns\n",
    "# as a variable named `transaction_hash`, and have it display on the\n",
    "# application’s web interface.\n",
    "\n",
    "##########################################"
   ]
  },
  {
   "cell_type": "code",
   "execution_count": 24,
   "id": "02076e45",
   "metadata": {},
   "outputs": [],
   "source": [
    "# Step 2 - Part 1:\n",
    "# * Write the equation that calculates the candidate’s wage. This equation\n",
    "# should assess the candidate’s hourly rate from the candidate database\n",
    "# (`candidate_database[person][3]`) and then multiply this hourly rate by\n",
    "# the value of the `hours` variable. Save this calculation’s output as a\n",
    "# variable named `wage`.\n",
    "# * Write the `wage` variable to the Streamlit sidebar by using `st.sidebar.write`.\n",
    "\n",
    "# @TODO\n",
    "# Calculate total `wage` for the candidate by multiplying the candidate’s hourly\n",
    "# rate from the candidate database (`candidate_database[person][3]`) by the\n",
    "# value of the `hours` variable\n",
    "wage = hours * hourly_rate\n",
    "\n",
    "# @TODO\n",
    "# Write the `wage` calculation to the Streamlit sidebar\n",
    "st.sidebar.write(wage)\n"
   ]
  },
  {
   "cell_type": "code",
   "execution_count": 25,
   "id": "493d274e",
   "metadata": {},
   "outputs": [],
   "source": [
    "##########################################\n",
    "# Step 2 - Part 2:\n",
    "# * Call the `send_transaction` function and pass it three parameters:\n",
    "# - Your Ethereum `account` information. (Remember that this `account`\n",
    "# instance was created when the `generate_account` function was called.)\n",
    "#  From the `account` instance, the application will be able to access the\n",
    "#  `account.address` information that is needed to populate the `from` data\n",
    "# attribute in the raw transaction.\n",
    "# - The `candidate_address` (which will be created and identified in the\n",
    "# sidebar when a customer selects a candidate). This will populate the `to`\n",
    "# data attribute in the raw transaction.\n",
    "# - The `wage` value. This will be passed to the `toWei` function to\n",
    "# determine the wei value of the payment in the raw transaction.\n",
    "\n",
    "# * Save the transaction hash that the `send_transaction` function returns as a\n",
    "# variable named `transaction_hash`, and have it display on the application’s\n",
    "# web interface."
   ]
  },
  {
   "cell_type": "code",
   "execution_count": 29,
   "id": "b665d394",
   "metadata": {},
   "outputs": [
    {
     "ename": "FileNotFoundError",
     "evalue": "[Errno 2] No such file or directory: 'Images/lane.jpeg'",
     "output_type": "error",
     "traceback": [
      "\u001b[1;31m---------------------------------------------------------------------------\u001b[0m",
      "\u001b[1;31mFileNotFoundError\u001b[0m                         Traceback (most recent call last)",
      "Input \u001b[1;32mIn [29]\u001b[0m, in \u001b[0;36m<cell line: 20>\u001b[1;34m()\u001b[0m\n\u001b[0;32m     16\u001b[0m     st\u001b[38;5;241m.\u001b[39mballoons()\n\u001b[0;32m     18\u001b[0m \u001b[38;5;66;03m# The function that starts the Streamlit application\u001b[39;00m\n\u001b[0;32m     19\u001b[0m \u001b[38;5;66;03m# Writes KryptoJobs2Go candidates to the Streamlit page\u001b[39;00m\n\u001b[1;32m---> 20\u001b[0m \u001b[43mget_people\u001b[49m\u001b[43m(\u001b[49m\u001b[43m)\u001b[49m\n",
      "Input \u001b[1;32mIn [7]\u001b[0m, in \u001b[0;36mget_people\u001b[1;34m()\u001b[0m\n\u001b[0;32m     42\u001b[0m db_list \u001b[38;5;241m=\u001b[39m \u001b[38;5;28mlist\u001b[39m(candidate_database\u001b[38;5;241m.\u001b[39mvalues())\n\u001b[0;32m     44\u001b[0m \u001b[38;5;28;01mfor\u001b[39;00m number \u001b[38;5;129;01min\u001b[39;00m \u001b[38;5;28mrange\u001b[39m(\u001b[38;5;28mlen\u001b[39m(people)):\n\u001b[1;32m---> 45\u001b[0m     \u001b[43mst\u001b[49m\u001b[38;5;241;43m.\u001b[39;49m\u001b[43mimage\u001b[49m\u001b[43m(\u001b[49m\u001b[43mdb_list\u001b[49m\u001b[43m[\u001b[49m\u001b[43mnumber\u001b[49m\u001b[43m]\u001b[49m\u001b[43m[\u001b[49m\u001b[38;5;241;43m4\u001b[39;49m\u001b[43m]\u001b[49m\u001b[43m,\u001b[49m\u001b[43m \u001b[49m\u001b[43mwidth\u001b[49m\u001b[38;5;241;43m=\u001b[39;49m\u001b[38;5;241;43m200\u001b[39;49m\u001b[43m)\u001b[49m\n\u001b[0;32m     46\u001b[0m     st\u001b[38;5;241m.\u001b[39mwrite(\u001b[38;5;124m\"\u001b[39m\u001b[38;5;124mName: \u001b[39m\u001b[38;5;124m\"\u001b[39m, db_list[number][\u001b[38;5;241m0\u001b[39m])\n\u001b[0;32m     47\u001b[0m     st\u001b[38;5;241m.\u001b[39mwrite(\u001b[38;5;124m\"\u001b[39m\u001b[38;5;124mEthereum Account Address: \u001b[39m\u001b[38;5;124m\"\u001b[39m, db_list[number][\u001b[38;5;241m1\u001b[39m])\n",
      "File \u001b[1;32m~\\anaconda3\\envs\\dev1\\lib\\site-packages\\streamlit\\runtime\\metrics_util.py:231\u001b[0m, in \u001b[0;36mgather_metrics.<locals>.wrap\u001b[1;34m(*args, **kwargs)\u001b[0m\n\u001b[0;32m    228\u001b[0m     ctx\u001b[38;5;241m.\u001b[39mcommand_tracking_deactivated \u001b[38;5;241m=\u001b[39m \u001b[38;5;28;01mTrue\u001b[39;00m\n\u001b[0;32m    230\u001b[0m exec_start \u001b[38;5;241m=\u001b[39m timer()\n\u001b[1;32m--> 231\u001b[0m result \u001b[38;5;241m=\u001b[39m callable(\u001b[38;5;241m*\u001b[39margs, \u001b[38;5;241m*\u001b[39m\u001b[38;5;241m*\u001b[39mkwargs)\n\u001b[0;32m    233\u001b[0m \u001b[38;5;66;03m# Activate tracking again\u001b[39;00m\n\u001b[0;32m    234\u001b[0m \u001b[38;5;28;01mif\u001b[39;00m ctx:\n",
      "File \u001b[1;32m~\\anaconda3\\envs\\dev1\\lib\\site-packages\\streamlit\\elements\\image.py:140\u001b[0m, in \u001b[0;36mImageMixin.image\u001b[1;34m(self, image, caption, width, use_column_width, clamp, channels, output_format)\u001b[0m\n\u001b[0;32m    137\u001b[0m     \u001b[38;5;28;01mraise\u001b[39;00m StreamlitAPIException(\u001b[38;5;124m\"\u001b[39m\u001b[38;5;124mImage width must be positive.\u001b[39m\u001b[38;5;124m\"\u001b[39m)\n\u001b[0;32m    139\u001b[0m image_list_proto \u001b[38;5;241m=\u001b[39m ImageListProto()\n\u001b[1;32m--> 140\u001b[0m \u001b[43mmarshall_images\u001b[49m\u001b[43m(\u001b[49m\n\u001b[0;32m    141\u001b[0m \u001b[43m    \u001b[49m\u001b[38;5;28;43mself\u001b[39;49m\u001b[38;5;241;43m.\u001b[39;49m\u001b[43mdg\u001b[49m\u001b[38;5;241;43m.\u001b[39;49m\u001b[43m_get_delta_path_str\u001b[49m\u001b[43m(\u001b[49m\u001b[43m)\u001b[49m\u001b[43m,\u001b[49m\n\u001b[0;32m    142\u001b[0m \u001b[43m    \u001b[49m\u001b[43mimage\u001b[49m\u001b[43m,\u001b[49m\n\u001b[0;32m    143\u001b[0m \u001b[43m    \u001b[49m\u001b[43mcaption\u001b[49m\u001b[43m,\u001b[49m\n\u001b[0;32m    144\u001b[0m \u001b[43m    \u001b[49m\u001b[43mwidth\u001b[49m\u001b[43m,\u001b[49m\n\u001b[0;32m    145\u001b[0m \u001b[43m    \u001b[49m\u001b[43mimage_list_proto\u001b[49m\u001b[43m,\u001b[49m\n\u001b[0;32m    146\u001b[0m \u001b[43m    \u001b[49m\u001b[43mclamp\u001b[49m\u001b[43m,\u001b[49m\n\u001b[0;32m    147\u001b[0m \u001b[43m    \u001b[49m\u001b[43mchannels\u001b[49m\u001b[43m,\u001b[49m\n\u001b[0;32m    148\u001b[0m \u001b[43m    \u001b[49m\u001b[43moutput_format\u001b[49m\u001b[43m,\u001b[49m\n\u001b[0;32m    149\u001b[0m \u001b[43m\u001b[49m\u001b[43m)\u001b[49m\n\u001b[0;32m    150\u001b[0m \u001b[38;5;28;01mreturn\u001b[39;00m \u001b[38;5;28mself\u001b[39m\u001b[38;5;241m.\u001b[39mdg\u001b[38;5;241m.\u001b[39m_enqueue(\u001b[38;5;124m\"\u001b[39m\u001b[38;5;124mimgs\u001b[39m\u001b[38;5;124m\"\u001b[39m, image_list_proto)\n",
      "File \u001b[1;32m~\\anaconda3\\envs\\dev1\\lib\\site-packages\\streamlit\\elements\\image.py:475\u001b[0m, in \u001b[0;36mmarshall_images\u001b[1;34m(coordinates, image, caption, width, proto_imgs, clamp, channels, output_format)\u001b[0m\n\u001b[0;32m    473\u001b[0m         is_svg \u001b[38;5;241m=\u001b[39m \u001b[38;5;28;01mTrue\u001b[39;00m\n\u001b[0;32m    474\u001b[0m \u001b[38;5;28;01mif\u001b[39;00m \u001b[38;5;129;01mnot\u001b[39;00m is_svg:\n\u001b[1;32m--> 475\u001b[0m     proto_img\u001b[38;5;241m.\u001b[39murl \u001b[38;5;241m=\u001b[39m \u001b[43mimage_to_url\u001b[49m\u001b[43m(\u001b[49m\n\u001b[0;32m    476\u001b[0m \u001b[43m        \u001b[49m\u001b[43mimage\u001b[49m\u001b[43m,\u001b[49m\u001b[43m \u001b[49m\u001b[43mwidth\u001b[49m\u001b[43m,\u001b[49m\u001b[43m \u001b[49m\u001b[43mclamp\u001b[49m\u001b[43m,\u001b[49m\u001b[43m \u001b[49m\u001b[43mchannels\u001b[49m\u001b[43m,\u001b[49m\u001b[43m \u001b[49m\u001b[43moutput_format\u001b[49m\u001b[43m,\u001b[49m\u001b[43m \u001b[49m\u001b[43mimage_id\u001b[49m\n\u001b[0;32m    477\u001b[0m \u001b[43m    \u001b[49m\u001b[43m)\u001b[49m\n",
      "File \u001b[1;32m~\\anaconda3\\envs\\dev1\\lib\\site-packages\\streamlit\\elements\\image.py:353\u001b[0m, in \u001b[0;36mimage_to_url\u001b[1;34m(image, width, clamp, channels, output_format, image_id)\u001b[0m\n\u001b[0;32m    350\u001b[0m         \u001b[38;5;28;01mpass\u001b[39;00m\n\u001b[0;32m    352\u001b[0m     \u001b[38;5;66;03m# Otherwise, open it as a file.\u001b[39;00m\n\u001b[1;32m--> 353\u001b[0m     \u001b[38;5;28;01mwith\u001b[39;00m \u001b[38;5;28;43mopen\u001b[39;49m\u001b[43m(\u001b[49m\u001b[43mimage\u001b[49m\u001b[43m,\u001b[49m\u001b[43m \u001b[49m\u001b[38;5;124;43m\"\u001b[39;49m\u001b[38;5;124;43mrb\u001b[39;49m\u001b[38;5;124;43m\"\u001b[39;49m\u001b[43m)\u001b[49m \u001b[38;5;28;01mas\u001b[39;00m f:\n\u001b[0;32m    354\u001b[0m         image_data \u001b[38;5;241m=\u001b[39m f\u001b[38;5;241m.\u001b[39mread()\n\u001b[0;32m    356\u001b[0m \u001b[38;5;66;03m# Raw bytes\u001b[39;00m\n\u001b[0;32m    357\u001b[0m \u001b[38;5;28;01melse\u001b[39;00m:\n",
      "\u001b[1;31mFileNotFoundError\u001b[0m: [Errno 2] No such file or directory: 'Images/lane.jpeg'"
     ]
    }
   ],
   "source": [
    "if st.sidebar.button(\"Send Transaction\"):\n",
    "\n",
    "    # @TODO\n",
    "    # Call the `send_transaction` function and pass it 3 parameters:\n",
    "    # Your `account`, the `candidate_address`, and the `wage` as parameters\n",
    "    # Save the returned transaction hash as a variable named `transaction_hash`\n",
    "    transaction_hash = send_transaction(w3, account, candidate_address, wage)\n",
    "\n",
    "    # Markdown for the transaction hash\n",
    "    st.sidebar.markdown(\"#### Validated Transaction Hash\")\n",
    "\n",
    "    # Write the returned transaction hash to the screen\n",
    "    st.sidebar.write(transaction_hash)\n",
    "\n",
    "    # Celebrate your successful payment\n",
    "    st.balloons()\n",
    "\n",
    "# The function that starts the Streamlit application\n",
    "# Writes KryptoJobs2Go candidates to the Streamlit page\n",
    "get_people()"
   ]
  },
  {
   "cell_type": "code",
   "execution_count": 27,
   "id": "7846feb7",
   "metadata": {},
   "outputs": [],
   "source": [
    "################################################################################\n",
    "# Step 3: Inspect the Transaction\n",
    "\n",
    "# Send a test transaction by using the application’s web interface, and then\n",
    "# look up the resulting transaction hash in Ganache.\n",
    "\n",
    "# Complete the following steps:\n",
    "\n",
    "# 1. From your terminal, navigate to the project folder that contains\n",
    "# your `.env` file and the `krypto_jobs.py` and `crypto_wallet.py` files.\n",
    "# Be sure to activate your Conda `dev` environment if it is not already active.\n",
    "\n",
    "# 2. To launch the Streamlit application,\n",
    "# type `streamlit run krypto_jobs.py`.\n",
    "\n",
    "# 3. On the resulting webpage, select a candidate that you would like to hire\n",
    "# from the appropriate drop-down menu. Then, enter the number of hours that you\n",
    "# would like to hire them for. (Remember, you do not have a lot of ether in\n",
    "# your account, so you cannot hire them for long!)\n",
    "\n",
    "# 4 Click the Send Transaction button to sign and send the transaction with\n",
    "# your Ethereum account information. If the transaction is successfully\n",
    "# communicated to Ganache, validated, and added to a block,\n",
    "# a resulting transaction hash code will be written to the Streamlit\n",
    "# application sidebar.\n",
    "\n",
    "# 5. Navigate to the Ganache accounts tab and locate your account (index 0).\n",
    "# * Take a screenshot of the address, balance, and transaction (TX) count.\n",
    "# Save this screenshot to the README.md file of your GitHub repository for\n",
    "#  this Challenge assignment.\n",
    "\n",
    "# 6. Navigate to the Ganache transactions tab and locate the transaction.\n",
    "# * Click the transaction and take a screenshot of it.\n",
    "# Save this screenshot to the README.md file of your GitHub repository for\n",
    "#  this Challenge assignment."
   ]
  }
 ],
 "metadata": {
  "kernelspec": {
   "display_name": "dev1",
   "language": "python",
   "name": "dev1"
  },
  "language_info": {
   "codemirror_mode": {
    "name": "ipython",
    "version": 3
   },
   "file_extension": ".py",
   "mimetype": "text/x-python",
   "name": "python",
   "nbconvert_exporter": "python",
   "pygments_lexer": "ipython3",
   "version": "3.9.12"
  }
 },
 "nbformat": 4,
 "nbformat_minor": 5
}
